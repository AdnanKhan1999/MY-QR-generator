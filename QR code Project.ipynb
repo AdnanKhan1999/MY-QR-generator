{
 "cells": [
  {
   "cell_type": "code",
   "execution_count": 15,
   "id": "3dcf60e5-57cb-4040-b713-fb3107e36899",
   "metadata": {},
   "outputs": [],
   "source": [
    "import qrcode as qr"
   ]
  },
  {
   "cell_type": "code",
   "execution_count": 16,
   "id": "67f28fba-502d-4ffd-8028-cf0634d4196f",
   "metadata": {},
   "outputs": [],
   "source": [
    "from PIL import Image #importing some image modules from Pillow library"
   ]
  },
  {
   "cell_type": "code",
   "execution_count": 18,
   "id": "60f10a12-5f58-4bc9-8be1-b6d5be09d7d8",
   "metadata": {},
   "outputs": [],
   "source": [
    "qr=qrcode.QRCode(version=1,\n",
    "                error_correction=qrcode.constants.ERROR_CORRECT_H,box_size=13,border=5) #creating variable to define the customazition of our qr code box \n",
    "qr.add_data(\"https://github.com/AdnanKhan1999\") #link of my github i want to create qr code\n",
    "qr.make(fit=True)\n",
    "img=qr.make_image(fill_color=\"blue\",back_color=\"red\") #define the constraint of qr code \n",
    "img.save(\"loural Github.png\") #saving my qr code as png image\n"
   ]
  },
  {
   "cell_type": "code",
   "execution_count": null,
   "id": "3e2c5000-7025-4850-bd82-e94c0b31955c",
   "metadata": {},
   "outputs": [],
   "source": []
  },
  {
   "cell_type": "code",
   "execution_count": 4,
   "id": "3b7d2d73-a4b3-4e1e-ab4d-87588ba753e6",
   "metadata": {},
   "outputs": [],
   "source": [
    "img=qr.make(\"https://github.com/AdnanKhan1999\")\n"
   ]
  },
  {
   "cell_type": "code",
   "execution_count": 6,
   "id": "d10fdfca-7d50-4a16-80ff-7b5c885b6282",
   "metadata": {},
   "outputs": [],
   "source": [
    "img.save(\"Adnan Github.png\")"
   ]
  },
  {
   "cell_type": "code",
   "execution_count": null,
   "id": "36c94bdf-a880-4732-9e73-2cd5d23b6c46",
   "metadata": {},
   "outputs": [],
   "source": []
  }
 ],
 "metadata": {
  "kernelspec": {
   "display_name": "Python 3 (ipykernel)",
   "language": "python",
   "name": "python3"
  },
  "language_info": {
   "codemirror_mode": {
    "name": "ipython",
    "version": 3
   },
   "file_extension": ".py",
   "mimetype": "text/x-python",
   "name": "python",
   "nbconvert_exporter": "python",
   "pygments_lexer": "ipython3",
   "version": "3.11.7"
  }
 },
 "nbformat": 4,
 "nbformat_minor": 5
}
